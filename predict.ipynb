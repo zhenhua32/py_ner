{
 "cells": [
  {
   "cell_type": "code",
   "execution_count": 3,
   "metadata": {},
   "outputs": [],
   "source": [
    "import spacy\n",
    "from spacy import displacy\n",
    "from spacy.tokens import DocBin, Doc"
   ]
  },
  {
   "cell_type": "code",
   "execution_count": 17,
   "metadata": {},
   "outputs": [],
   "source": [
    "nlp = spacy.load(\"model_dir/cpu/model-best\")"
   ]
  },
  {
   "cell_type": "code",
   "execution_count": 5,
   "metadata": {},
   "outputs": [],
   "source": [
    "doc_bin = DocBin().from_disk(\"./data/resume_zh_spacy/test.spacy\")"
   ]
  },
  {
   "cell_type": "code",
   "execution_count": 14,
   "metadata": {},
   "outputs": [
    {
     "data": {
      "text/plain": [
       "['__class__',\n",
       " '__delattr__',\n",
       " '__dict__',\n",
       " '__dir__',\n",
       " '__doc__',\n",
       " '__eq__',\n",
       " '__format__',\n",
       " '__ge__',\n",
       " '__getattribute__',\n",
       " '__gt__',\n",
       " '__hash__',\n",
       " '__init__',\n",
       " '__init_subclass__',\n",
       " '__le__',\n",
       " '__len__',\n",
       " '__lt__',\n",
       " '__module__',\n",
       " '__ne__',\n",
       " '__new__',\n",
       " '__reduce__',\n",
       " '__reduce_ex__',\n",
       " '__repr__',\n",
       " '__setattr__',\n",
       " '__sizeof__',\n",
       " '__str__',\n",
       " '__subclasshook__',\n",
       " '__weakref__',\n",
       " 'add',\n",
       " 'attrs',\n",
       " 'cats',\n",
       " 'flags',\n",
       " 'from_bytes',\n",
       " 'from_disk',\n",
       " 'get_docs',\n",
       " 'merge',\n",
       " 'spaces',\n",
       " 'span_groups',\n",
       " 'store_user_data',\n",
       " 'strings',\n",
       " 'to_bytes',\n",
       " 'to_disk',\n",
       " 'tokens',\n",
       " 'user_data',\n",
       " 'version']"
      ]
     },
     "execution_count": 14,
     "metadata": {},
     "output_type": "execute_result"
    }
   ],
   "source": [
    "dir(doc_bin)"
   ]
  },
  {
   "cell_type": "code",
   "execution_count": 18,
   "metadata": {},
   "outputs": [
    {
     "name": "stdout",
     "output_type": "stream",
     "text": [
      "477\n"
     ]
    }
   ],
   "source": [
    "doc_list = list(doc_bin.get_docs(nlp.vocab))\n",
    "print(len(doc_list))"
   ]
  },
  {
   "cell_type": "code",
   "execution_count": 36,
   "metadata": {},
   "outputs": [
    {
     "name": "stdout",
     "output_type": "stream",
     "text": [
      "1963年出生，工科学士，高级工程师，北京物资学院客座副教授。\n",
      "工科 8 10 PRO\n",
      "学士 10 12 EDU\n",
      "高级工程师 13 18 TITLE\n",
      "北京物资学院 19 25 ORG\n",
      "客座副教授 25 30 TITLE\n",
      "---预测\n",
      "工科学士 8 12 EDU\n",
      "高级工程师 13 18 TITLE\n",
      "北京物资学院 19 25 ORG\n",
      "客座副教授 25 30 TITLE\n"
     ]
    }
   ],
   "source": [
    "doc = doc_list[1]\n",
    "print(doc.text)\n",
    "for ent in doc.ents:\n",
    "    print(ent.text, ent.start, ent.end, ent.label_)\n",
    "\n",
    "print(\"---预测\")\n",
    "doc_predict = nlp(doc.text)\n",
    "for ent in doc_predict.ents:\n",
    "    print(ent.text, ent.start, ent.end, ent.label_)"
   ]
  }
 ],
 "metadata": {
  "kernelspec": {
   "display_name": "Python 3.9.7 ('transformers')",
   "language": "python",
   "name": "python3"
  },
  "language_info": {
   "codemirror_mode": {
    "name": "ipython",
    "version": 3
   },
   "file_extension": ".py",
   "mimetype": "text/x-python",
   "name": "python",
   "nbconvert_exporter": "python",
   "pygments_lexer": "ipython3",
   "version": "3.9.7"
  },
  "orig_nbformat": 4,
  "vscode": {
   "interpreter": {
    "hash": "d8025d30852334e6e768ca567da121c1aa274c2c5a5a8a9ff400eded44c1a99b"
   }
  }
 },
 "nbformat": 4,
 "nbformat_minor": 2
}
