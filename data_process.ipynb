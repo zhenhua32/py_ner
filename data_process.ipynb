{
 "cells": [
  {
   "cell_type": "markdown",
   "metadata": {},
   "source": [
    "# 处理数据, 转换成 spacy 格式"
   ]
  },
  {
   "cell_type": "code",
   "execution_count": 14,
   "metadata": {},
   "outputs": [],
   "source": [
    "import os\n",
    "import json\n",
    "import spacy\n",
    "from spacy.tokens import DocBin, Doc\n",
    "from pprint import pprint\n",
    "from tqdm import tqdm"
   ]
  },
  {
   "cell_type": "code",
   "execution_count": 5,
   "metadata": {},
   "outputs": [
    {
     "name": "stdout",
     "output_type": "stream",
     "text": [
      "3819\n",
      "{'ner': [{'index': [0, 1], 'type': 'NAME'},\n",
      "         {'index': [5, 6, 7, 8], 'type': 'CONT'}],\n",
      " 'sentence': ['高',\n",
      "              '勇',\n",
      "              '：',\n",
      "              '男',\n",
      "              '，',\n",
      "              '中',\n",
      "              '国',\n",
      "              '国',\n",
      "              '籍',\n",
      "              '，',\n",
      "              '无',\n",
      "              '境',\n",
      "              '外',\n",
      "              '居',\n",
      "              '留',\n",
      "              '权',\n",
      "              '，'],\n",
      " 'word': [[0, 1],\n",
      "          [2],\n",
      "          [3],\n",
      "          [4],\n",
      "          [5, 6],\n",
      "          [7, 8],\n",
      "          [9],\n",
      "          [10],\n",
      "          [11, 12],\n",
      "          [13, 14, 15],\n",
      "          [16]]}\n"
     ]
    }
   ],
   "source": [
    "train_file = \"./data/resume_zh/train.json\"\n",
    "with open(train_file, \"r\", encoding=\"utf-8\") as f:\n",
    "    train_data = json.load(f)\n",
    "print(len(train_data))\n",
    "pprint(train_data[0])"
   ]
  },
  {
   "cell_type": "code",
   "execution_count": 19,
   "metadata": {},
   "outputs": [
    {
     "name": "stdout",
     "output_type": "stream",
     "text": [
      "高勇 NAME\n",
      "中国国籍 CONT\n"
     ]
    }
   ],
   "source": [
    "nlp = spacy.blank(\"zh\")\n",
    "item = train_data[0]\n",
    "text = \"\".join(item[\"sentence\"])\n",
    "doc: Doc = nlp(text)\n",
    "entities = []\n",
    "for label in item[\"ner\"]:\n",
    "    start = label[\"index\"][0]\n",
    "    # resume_zh 中的标签都是只包含最后一个字符位置, 这里需要最后一个字符位置 + 1, 类似于 python 的切片\n",
    "    end = label[\"index\"][-1] + 1\n",
    "    label = label[\"type\"]\n",
    "    span = doc.char_span(start, end, label=label, alignment_mode=\"contract\")\n",
    "    print(span, span.label_)\n",
    "    entities.append(span)\n",
    "\n",
    "doc.ents = entities"
   ]
  },
  {
   "cell_type": "code",
   "execution_count": 15,
   "metadata": {},
   "outputs": [],
   "source": [
    "def convert_file(origin_file, output_file):\n",
    "    nlp = spacy.blank(\"zh\")\n",
    "    db = DocBin()\n",
    "\n",
    "    with open(origin_file, \"r\", encoding=\"utf-8\") as f:\n",
    "        data = json.load(f)\n",
    "        for item in tqdm(data):\n",
    "            text = \"\".join(item[\"sentence\"])\n",
    "            doc: Doc = nlp(text)\n",
    "            entities = []\n",
    "            for label in item[\"ner\"]:\n",
    "                start = label[\"index\"][0]\n",
    "                # resume_zh 中的标签都是只包含最后一个字符位置, 这里需要最后一个字符位置 + 1, 类似于 python 的切片\n",
    "                end = label[\"index\"][-1] + 1\n",
    "                label = label[\"type\"]\n",
    "                span = doc.char_span(start, end, label=label, alignment_mode=\"contract\")\n",
    "                entities.append(span)\n",
    "\n",
    "            doc.ents = entities\n",
    "            db.add(doc)\n",
    "    \n",
    "    db.to_disk(output_file)"
   ]
  },
  {
   "cell_type": "code",
   "execution_count": 13,
   "metadata": {},
   "outputs": [
    {
     "name": "stderr",
     "output_type": "stream",
     "text": [
      "100%|██████████| 3819/3819 [00:00<00:00, 4579.69it/s]\n",
      "100%|██████████| 463/463 [00:00<00:00, 4543.28it/s]\n",
      "100%|██████████| 477/477 [00:00<00:00, 2689.39it/s]\n"
     ]
    }
   ],
   "source": [
    "os.makedirs(\"./data/resume_zh_spacy\", exist_ok=True)\n",
    "convert_file(\"./data/resume_zh/train.json\", \"./data/resume_zh_spacy/train.spacy\")\n",
    "convert_file(\"./data/resume_zh/dev.json\", \"./data/resume_zh_spacy/dev.spacy\")\n",
    "convert_file(\"./data/resume_zh/test.json\", \"./data/resume_zh_spacy/test.spacy\")"
   ]
  }
 ],
 "metadata": {
  "kernelspec": {
   "display_name": "Python 3.9.7 ('transformers')",
   "language": "python",
   "name": "python3"
  },
  "language_info": {
   "codemirror_mode": {
    "name": "ipython",
    "version": 3
   },
   "file_extension": ".py",
   "mimetype": "text/x-python",
   "name": "python",
   "nbconvert_exporter": "python",
   "pygments_lexer": "ipython3",
   "version": "3.9.7"
  },
  "orig_nbformat": 4,
  "vscode": {
   "interpreter": {
    "hash": "d8025d30852334e6e768ca567da121c1aa274c2c5a5a8a9ff400eded44c1a99b"
   }
  }
 },
 "nbformat": 4,
 "nbformat_minor": 2
}
